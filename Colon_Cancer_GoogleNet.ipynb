{
  "cells": [
    {
      "cell_type": "code",
      "execution_count": null,
      "metadata": {
        "colab": {
          "base_uri": "https://localhost:8080/"
        },
        "id": "LJmxi0e-9pRf",
        "outputId": "d0dcbd99-2ab2-4ee5-e8cd-2e8a08238c90"
      },
      "outputs": [
        {
          "output_type": "stream",
          "name": "stdout",
          "text": [
            "Drive already mounted at /content/drive; to attempt to forcibly remount, call drive.mount(\"/content/drive\", force_remount=True).\n"
          ]
        }
      ],
      "source": [
        "from google.colab import drive\n",
        "\n",
        "drive.mount('/content/drive')"
      ]
    },
    {
      "cell_type": "code",
      "execution_count": null,
      "metadata": {
        "colab": {
          "base_uri": "https://localhost:8080/"
        },
        "id": "W1RrognTx42u",
        "outputId": "511a14d6-5f63-4203-f902-50fb67d8a947"
      },
      "outputs": [
        {
          "output_type": "stream",
          "name": "stdout",
          "text": [
            "['large.cell.carcinoma', 'adenocarcinoma', 'squamous.cell.carcinoma', 'normal']\n"
          ]
        }
      ],
      "source": [
        "# path of dataset file\n",
        "import os\n",
        "dataset = \"/content/drive/MyDrive/Lung Dataset /Chest CT Scan Images/\"\n",
        "print(os.listdir(dataset))\n"
      ]
    },
    {
      "cell_type": "code",
      "execution_count": null,
      "metadata": {
        "id": "EkEejDh35nmc"
      },
      "outputs": [],
      "source": [
        "import torch\n",
        "import torch.nn as nn\n",
        "import torchvision.models as models\n",
        "import torchvision.transforms as transforms\n",
        "from PIL import Image\n",
        "\n",
        "import numpy as np\n",
        "\n",
        "import random\n",
        "from sklearn.model_selection import train_test_split\n",
        "from sklearn.svm import SVC\n",
        "from sklearn.neighbors import KNeighborsClassifier\n",
        "from sklearn.tree import DecisionTreeClassifier\n",
        "from sklearn.metrics import accuracy_score, precision_score, recall_score, f1_score, roc_curve, auc, roc_auc_score, confusion_matrix, ConfusionMatrixDisplay\n",
        "import matplotlib.pyplot as plt\n",
        "from pathlib import Path"
      ]
    },
    {
      "cell_type": "code",
      "execution_count": null,
      "metadata": {
        "id": "XbhI1Q2EKpeY",
        "colab": {
          "base_uri": "https://localhost:8080/"
        },
        "outputId": "90880d2b-ecd6-457a-d36a-152a718ef0cd"
      },
      "outputs": [
        {
          "output_type": "stream",
          "name": "stderr",
          "text": [
            "/usr/local/lib/python3.10/dist-packages/torchvision/models/_utils.py:208: UserWarning: The parameter 'pretrained' is deprecated since 0.13 and may be removed in the future, please use 'weights' instead.\n",
            "  warnings.warn(\n",
            "/usr/local/lib/python3.10/dist-packages/torchvision/models/_utils.py:223: UserWarning: Arguments other than a weight enum or `None` for 'weights' are deprecated since 0.13 and may be removed in the future. The current behavior is equivalent to passing `weights=GoogLeNet_Weights.IMAGENET1K_V1`. You can also use `weights=GoogLeNet_Weights.DEFAULT` to get the most up-to-date weights.\n",
            "  warnings.warn(msg)\n",
            "Downloading: \"https://download.pytorch.org/models/googlenet-1378be20.pth\" to /root/.cache/torch/hub/checkpoints/googlenet-1378be20.pth\n",
            "100%|██████████| 49.7M/49.7M [00:00<00:00, 122MB/s]\n"
          ]
        }
      ],
      "source": [
        "# Load the pretrained GoogleNet model\n",
        "googlenet = models.googlenet(pretrained=True)\n",
        "\n",
        "# Remove the final classification layer (fc) to use the model for feature extraction\n",
        "model = nn.Sequential(*list(googlenet.children())[:-1])\n",
        "\n",
        "# Set the model to evaluation mode\n",
        "model.eval()\n",
        "\n",
        "# Define a transform to preprocess the input image\n",
        "transform = transforms.Compose([\n",
        "    transforms.Resize((224, 224)),\n",
        "    transforms.ToTensor(),\n",
        "    transforms.Normalize(mean=[0.485, 0.456, 0.406], std=[0.229, 0.224, 0.225]),\n",
        "])\n",
        "\n",
        "def extract_features(image_path, model):\n",
        "    image = Image.open(image_path).convert('RGB')\n",
        "    image = transform(image).unsqueeze(0)\n",
        "    with torch.no_grad():\n",
        "        features = model(image)\n",
        "    return features.squeeze().numpy()"
      ]
    },
    {
      "cell_type": "code",
      "execution_count": null,
      "metadata": {
        "id": "jLp7zjUHM3Xr"
      },
      "outputs": [],
      "source": [
        "classes = os.listdir(dataset)\n",
        "# Extract features and labels\n",
        "features_list = []\n",
        "labels_list = []\n",
        "\n",
        "for label, class_dir in enumerate(classes):\n",
        "    class_path = os.path.join(dataset, class_dir)\n",
        "    for image_name in os.listdir(class_path):\n",
        "        image_path = os.path.join(class_path, image_name)\n",
        "        features = extract_features(image_path, googlenet)\n",
        "        features_list.append(features)\n",
        "        labels_list.append(label)\n",
        "\n",
        "\n",
        "features = np.vstack(features_list)\n",
        "labels = np.hstack(labels_list)\n",
        "\n",
        "print(f'Features shape: {features.shape}')\n",
        "print(f'Features shape: {features.shape}')\n"
      ]
    },
    {
      "cell_type": "code",
      "execution_count": null,
      "metadata": {
        "id": "1mt3knxO6O39"
      },
      "outputs": [],
      "source": [
        "# Split data\n",
        "X_train, X_test, y_train, y_test = train_test_split(features, labels_list, test_size=0.3, random_state=42)\n",
        "\n"
      ]
    },
    {
      "cell_type": "code",
      "execution_count": null,
      "metadata": {
        "id": "5DfaOOAktAEv"
      },
      "outputs": [],
      "source": [
        "# Function to plot ROC curve\n",
        "def plot_roc_curve(fpr, tpr, roc_auc, title):\n",
        "    plt.figure()\n",
        "    plt.plot(fpr, tpr, color='darkorange', lw=2, label=f'ROC curve (area = {roc_auc:.2f})')\n",
        "    plt.plot([0, 1], [0, 1], color='navy', lw=2, linestyle='--')\n",
        "    plt.xlim([0.0, 1.0])\n",
        "    plt.ylim([0.0, 1.05])\n",
        "    plt.xlabel('False Positive Rate')\n",
        "    plt.ylabel('True Positive Rate')\n",
        "    plt.title(title)\n",
        "    plt.legend(loc=\"lower right\")\n",
        "    plt.show()\n",
        "\n",
        "# Train and evaluate SVM\n",
        "svm = SVC(kernel='poly', probability=True)\n",
        "svm.fit(X_train, y_train)\n",
        "y_pred_svm = svm.predict(X_test)\n",
        "y_score_svm = svm.decision_function(X_test)\n",
        "\n",
        "# Compute metrics for SVM\n",
        "accuracy_svm = accuracy_score(y_test, y_pred_svm)\n",
        "precision_svm = precision_score(y_test, y_pred_svm)\n",
        "recall_svm = recall_score(y_test, y_pred_svm)\n",
        "f1_svm = f1_score(y_test, y_pred_svm)\n",
        "fpr_svm, tpr_svm, _ = roc_curve(y_test, y_score_svm)\n",
        "roc_auc_svm = auc(fpr_svm, tpr_svm)\n",
        "\n",
        "print(f'SVM Accuracy: {accuracy_svm:.4f}')\n",
        "print(f'SVM Precision: {precision_svm:.4f}')\n",
        "print(f'SVM Recall: {recall_svm:.4f}')\n",
        "print(f'SVM F1 Score: {f1_svm:.4f}')\n",
        "print(f'SVM AUC: {roc_auc_svm:.4f}')\n",
        "\n",
        "# Plot ROC curve for SVM\n",
        "plot_roc_curve(fpr_svm, tpr_svm, roc_auc_svm, 'SVM ROC Curve')\n",
        "\n",
        "# Confusion matrix for SVM\n",
        "cm_svm = confusion_matrix(y_test, y_pred_svm)\n",
        "disp_svm = ConfusionMatrixDisplay(confusion_matrix=cm_svm)\n",
        "disp_svm.plot()\n",
        "plt.title('SVM Confusion Matrix')\n",
        "plt.show()\n",
        "\n"
      ]
    }
  ],
  "metadata": {
    "accelerator": "TPU",
    "colab": {
      "gpuType": "V28",
      "provenance": []
    },
    "kernelspec": {
      "display_name": "Python 3",
      "name": "python3"
    },
    "language_info": {
      "name": "python"
    }
  },
  "nbformat": 4,
  "nbformat_minor": 0
}