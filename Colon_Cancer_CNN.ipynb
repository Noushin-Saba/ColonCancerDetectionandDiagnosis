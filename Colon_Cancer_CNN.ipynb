{
  "cells": [
    {
      "cell_type": "code",
      "execution_count": null,
      "metadata": {
        "id": "Rt3OZjucQSLr"
      },
      "outputs": [],
      "source": [
        "#pip install torch torchvision scikit-learn numpy Pillow\n",
        "\n",
        "!pip install deap\n",
        "#!pip install torchsummary\n"
      ]
    },
    {
      "cell_type": "code",
      "execution_count": null,
      "metadata": {
        "id": "LJmxi0e-9pRf"
      },
      "outputs": [],
      "source": [
        "from google.colab import drive\n",
        "\n",
        "drive.mount('/content/drive')"
      ]
    },
    {
      "cell_type": "code",
      "execution_count": null,
      "metadata": {
        "id": "W1RrognTx42u"
      },
      "outputs": [],
      "source": [
        "# path of dataset file\n",
        "import os\n",
        "dataset = \"/content/drive/My Drive/lung_colon_image_set/colon_image_sets/\"\n",
        "print(os.listdir(dataset))\n"
      ]
    },
    {
      "cell_type": "code",
      "execution_count": null,
      "metadata": {
        "id": "EkEejDh35nmc"
      },
      "outputs": [],
      "source": [
        "import torch\n",
        "import torch.nn as nn\n",
        "import torch.nn.functional as F\n",
        "import os\n",
        "import numpy as np\n",
        "import tensorflow as tf\n",
        "from tensorflow.keras.models import Sequential\n",
        "from tensorflow.keras.layers import Conv2D, MaxPooling2D, Flatten, Dense, Dropout, BatchNormalization, GlobalAveragePooling2D\n",
        "from tensorflow.keras.regularizers import l2\n",
        "\n",
        "from PIL import Image\n",
        "from torchvision import transforms\n",
        "from PIL import Image\n",
        "\n",
        "from deap import base, creator, tools, algorithms\n",
        "import random\n",
        "from sklearn.model_selection import train_test_split\n",
        "from sklearn.svm import SVC\n",
        "from sklearn.neighbors import KNeighborsClassifier\n",
        "from sklearn.tree import DecisionTreeClassifier\n",
        "from sklearn.metrics import accuracy_score, precision_score, recall_score, f1_score, roc_curve, auc, roc_auc_score, confusion_matrix, ConfusionMatrixDisplay\n",
        "import matplotlib.pyplot as plt\n",
        "from pathlib import Path"
      ]
    },
    {
      "cell_type": "code",
      "source": [
        "def build_cnn_extractor():\n",
        "    model = Sequential([\n",
        "        Conv2D(64, kernel_size=(3,3), input_shape=(224,224,3), activation='relu', padding='same'),\n",
        "        BatchNormalization(),\n",
        "        MaxPooling2D((2,2)),\n",
        "\n",
        "        Conv2D(128, kernel_size=(3,3), activation='relu', padding='same'),\n",
        "        BatchNormalization(),\n",
        "        MaxPooling2D((2,2)),\n",
        "\n",
        "        Conv2D(256, kernel_size=(3,3), activation='relu', padding='same'),\n",
        "        BatchNormalization(),\n",
        "        MaxPooling2D((2,2)),\n",
        "\n",
        "        GlobalAveragePooling2D(),  # GlobalAveragePooling2D instead of Flatten\n",
        "        Dense(128, activation='relu'),\n",
        "        Dropout(0.4),\n",
        "    ])\n",
        "    return model\n",
        "\n",
        "cnn_extractor = build_cnn_extractor()\n"
      ],
      "metadata": {
        "id": "XbhI1Q2EKpeY"
      },
      "execution_count": null,
      "outputs": []
    },
    {
      "cell_type": "code",
      "source": [
        "def extract_features(model, dataset_path):\n",
        "    classes = os.listdir(dataset_path)\n",
        "    features_list = []\n",
        "    labels_list = []\n",
        "\n",
        "    for label, class_dir in enumerate(classes):\n",
        "        class_path = os.path.join(dataset_path, class_dir)\n",
        "        for image_name in os.listdir(class_path):\n",
        "            image_path = os.path.join(class_path, image_name)\n",
        "            image = tf.keras.preprocessing.image.load_img(image_path, target_size=(224, 224))\n",
        "            image = tf.keras.preprocessing.image.img_to_array(image)\n",
        "            image = np.expand_dims(image, axis=0)  # Expand dims to (1, 224, 224, 3)\n",
        "\n",
        "            features = model.predict(image)  # Predict without manually setting learning phase\n",
        "            features_list.append(features.flatten())  # Flatten to a 1D array\n",
        "            labels_list.append(label)\n",
        "\n",
        "    features = np.vstack(features_list)\n",
        "    labels = np.array(labels_list)\n",
        "    return features, labels"
      ],
      "metadata": {
        "id": "jLp7zjUHM3Xr"
      },
      "execution_count": null,
      "outputs": []
    },
    {
      "cell_type": "code",
      "source": [
        "features, labels = extract_features(cnn_extractor, dataset)\n",
        "\n",
        "print(f'Features shape: {features.shape}')\n",
        "print(f'Labels shape: {labels.shape}')"
      ],
      "metadata": {
        "id": "3gOVtbQ5tmPp"
      },
      "execution_count": null,
      "outputs": []
    },
    {
      "cell_type": "code",
      "source": [
        "!pip install pymoo"
      ],
      "metadata": {
        "id": "VTH-e0qCRlR7"
      },
      "execution_count": null,
      "outputs": []
    },
    {
      "cell_type": "code",
      "execution_count": null,
      "metadata": {
        "id": "a6T2y2rQuZM0"
      },
      "outputs": [],
      "source": [
        "from pymoo.algorithms.moo.nsga2 import NSGA2\n",
        "from pymoo.core.problem import Problem\n",
        "from pymoo.problems import get_problem\n",
        "from pymoo.operators.crossover.pntx import TwoPointCrossover\n",
        "from pymoo.operators.mutation.bitflip import BitflipMutation\n",
        "from pymoo.operators.sampling.rnd import BinaryRandomSampling\n",
        "from pymoo.optimize import minimize\n",
        "from pymoo.visualization.scatter import Scatter\n",
        "import joblib\n",
        "import multiprocessing\n",
        "\n"
      ]
    },
    {
      "cell_type": "code",
      "execution_count": null,
      "metadata": {
        "id": "HLzipmNAymzD"
      },
      "outputs": [],
      "source": [
        "# Initialize lists to store accuracy\n",
        "accuracy_svm_list = []\n",
        "accuracy_dt_list = []\n",
        "accuracy_knn_list = []\n",
        "\n",
        "class FeatureSelectionProblem(Problem):\n",
        "    def __init__(self, features, labels):\n",
        "        self.features = features\n",
        "        self.labels = labels\n",
        "        super().__init__(n_var=features.shape[1], n_obj=3, xl=0, xu=1, type_var=np.bool_)  # Updated to np.bool_\n",
        "\n",
        "    def _evaluate(self, x, out, *args, **kwargs):\n",
        "        res = []\n",
        "        for individual in x:\n",
        "            selected_features = np.where(individual)[0]\n",
        "            if len(selected_features) == 0:\n",
        "                res.append([0, 0, 0])  # Invalid solution\n",
        "                continue\n",
        "            X_train, X_test, y_train, y_test = train_test_split(self.features[:, selected_features], self.labels, test_size=0.3, random_state=42)\n",
        "\n",
        "            # SVM\n",
        "            svm = SVC(kernel='linear')\n",
        "            svm.fit(X_train, y_train)\n",
        "            y_pred = svm.predict(X_test)\n",
        "            accuracy_svm = accuracy_score(y_test, y_pred)\n",
        "\n",
        "            # Decision Tree\n",
        "            dt = DecisionTreeClassifier()\n",
        "            dt.fit(X_train, y_train)\n",
        "            y_pred = dt.predict(X_test)\n",
        "            accuracy_dt = accuracy_score(y_test, y_pred)\n",
        "\n",
        "            # KNN\n",
        "            knn = KNeighborsClassifier(n_neighbors=3)\n",
        "            knn.fit(X_train, y_train)\n",
        "            y_pred = knn.predict(X_test)\n",
        "            accuracy_knn = accuracy_score(y_test, y_pred)\n",
        "\n",
        "            # Store accuracy for plots\n",
        "            accuracy_svm_list.append(accuracy_svm)\n",
        "            accuracy_dt_list.append(accuracy_dt)\n",
        "            accuracy_knn_list.append(accuracy_knn)\n",
        "\n",
        "            res.append([1-accuracy_svm, 1-accuracy_dt, 1-accuracy_knn])\n",
        "\n",
        "        out['F'] = np.array(res)\n"
      ]
    },
    {
      "cell_type": "code",
      "execution_count": null,
      "metadata": {
        "id": "Q3ewmIIaGOll"
      },
      "outputs": [],
      "source": [
        "\n",
        "problem = FeatureSelectionProblem(features, labels)\n",
        "\n"
      ]
    },
    {
      "cell_type": "code",
      "source": [
        "# Parallel processing setup\n",
        "pool = multiprocessing.Pool()\n",
        "toolbox = base.Toolbox()\n",
        "toolbox.register(\"map\", pool.map)\n"
      ],
      "metadata": {
        "id": "hGgHPfs01dZO"
      },
      "execution_count": null,
      "outputs": []
    },
    {
      "cell_type": "code",
      "source": [
        "algorithm = NSGA2(pop_size=25,\n",
        "                  sampling=BinaryRandomSampling(),\n",
        "                  crossover=TwoPointCrossover(),\n",
        "                  mutation=BitflipMutation(),\n",
        "                  eliminate_duplicates=True)\n"
      ],
      "metadata": {
        "id": "GoWDMjW6FkzK"
      },
      "execution_count": null,
      "outputs": []
    },
    {
      "cell_type": "code",
      "source": [
        "\n",
        "res = minimize(problem,\n",
        "               algorithm,\n",
        "               ('n_gen', 25),\n",
        "               seed=1,\n",
        "               save_history=True,\n",
        "               verbose=True,\n",
        "                eliminate_duplicates=True)"
      ],
      "metadata": {
        "id": "Wb9V3lrmFm4Z"
      },
      "execution_count": null,
      "outputs": []
    },
    {
      "cell_type": "code",
      "source": [
        "# Plotting the accuracy curves\n",
        "plt.figure(figsize=(12, 8))\n",
        "plt.plot(accuracy_svm_list, label=\"SVM Accuracy\")\n",
        "plt.plot(accuracy_dt_list, label=\"Decision Tree Accuracy\")\n",
        "plt.plot(accuracy_knn_list, label=\"KNN Accuracy\")\n",
        "plt.xlabel(\"Generations\")\n",
        "plt.ylabel(\"Accuracy\")\n",
        "plt.title(\"Classifier Accuracy during NSGA-II Optimization\")\n",
        "plt.legend()\n",
        "plt.show()"
      ],
      "metadata": {
        "id": "x6IxsOAwyr2V"
      },
      "execution_count": null,
      "outputs": []
    },
    {
      "cell_type": "code",
      "execution_count": null,
      "metadata": {
        "id": "rJGStPAIGSZN"
      },
      "outputs": [],
      "source": [
        "\n",
        "\n",
        "# Extract best individuals\n",
        "best_individuals = res.X\n",
        "best_individual = best_individuals[0]\n",
        "selected_features = np.where(best_individual)[0]\n",
        "print(f'Selected Features: {selected_features}')"
      ]
    },
    {
      "cell_type": "code",
      "execution_count": null,
      "metadata": {
        "id": "1mt3knxO6O39"
      },
      "outputs": [],
      "source": [
        "# Select features based on NSGA-II results\n",
        "X_selected = features[:, selected_features]\n",
        "\n",
        "# Split data\n",
        "X_train, X_test, y_train, y_test = train_test_split(X_selected, labels, test_size=0.3, random_state=42)\n",
        "\n"
      ]
    },
    {
      "cell_type": "code",
      "source": [
        "\n",
        "# Assuming X_train, X_test, y_train, y_test are already defined\n",
        "\n",
        "# Function to plot ROC curve\n",
        "def plot_roc_curve(fpr, tpr, roc_auc, title):\n",
        "    plt.figure()\n",
        "    plt.plot(fpr, tpr, color='darkorange', lw=2, label=f'ROC curve (area = {roc_auc:.2f})')\n",
        "    plt.plot([0, 1], [0, 1], color='navy', lw=2, linestyle='--')\n",
        "    plt.xlim([0.0, 1.0])\n",
        "    plt.ylim([0.0, 1.05])\n",
        "    plt.xlabel('False Positive Rate')\n",
        "    plt.ylabel('True Positive Rate')\n",
        "    plt.title(title)\n",
        "    plt.legend(loc=\"lower right\")\n",
        "    plt.show()\n",
        "\n",
        "# Train and evaluate SVM\n",
        "svm = SVC(kernel='linear', probability=True)\n",
        "svm.fit(X_train, y_train)\n",
        "y_pred_svm = svm.predict(X_test)\n",
        "y_score_svm = svm.decision_function(X_test)\n",
        "\n",
        "# Compute metrics for SVM\n",
        "accuracy_svm = accuracy_score(y_test, y_pred_svm)\n",
        "precision_svm = precision_score(y_test, y_pred_svm)\n",
        "recall_svm = recall_score(y_test, y_pred_svm)\n",
        "f1_svm = f1_score(y_test, y_pred_svm)\n",
        "fpr_svm, tpr_svm, _ = roc_curve(y_test, y_score_svm)\n",
        "roc_auc_svm = auc(fpr_svm, tpr_svm)\n",
        "\n",
        "print(f'SVM Accuracy: {accuracy_svm:.4f}')\n",
        "print(f'SVM Precision: {precision_svm:.4f}')\n",
        "print(f'SVM Recall: {recall_svm:.4f}')\n",
        "print(f'SVM F1 Score: {f1_svm:.4f}')\n",
        "print(f'SVM AUC: {roc_auc_svm:.4f}')\n",
        "\n",
        "# Plot ROC curve for SVM\n",
        "plot_roc_curve(fpr_svm, tpr_svm, roc_auc_svm, 'SVM ROC Curve')\n",
        "\n",
        "# Confusion matrix for SVM\n",
        "cm_svm = confusion_matrix(y_test, y_pred_svm)\n",
        "disp_svm = ConfusionMatrixDisplay(confusion_matrix=cm_svm)\n",
        "disp_svm.plot()\n",
        "plt.title('SVM Confusion Matrix')\n",
        "plt.show()\n",
        "\n",
        "# Train and evaluate Decision Tree\n",
        "dt = DecisionTreeClassifier()\n",
        "dt.fit(X_train, y_train)\n",
        "y_pred_dt = dt.predict(X_test)\n",
        "y_score_dt = dt.predict_proba(X_test)[:, 1]\n",
        "\n",
        "# Compute metrics for Decision Tree\n",
        "accuracy_dt = accuracy_score(y_test, y_pred_dt)\n",
        "precision_dt = precision_score(y_test, y_pred_dt)\n",
        "recall_dt = recall_score(y_test, y_pred_dt)\n",
        "f1_dt = f1_score(y_test, y_pred_dt)\n",
        "fpr_dt, tpr_dt, _ = roc_curve(y_test, y_score_dt)\n",
        "roc_auc_dt = auc(fpr_dt, tpr_dt)\n",
        "\n",
        "print(f'Decision Tree Accuracy: {accuracy_dt:.4f}')\n",
        "print(f'Decision Tree Precision: {precision_dt:.4f}')\n",
        "print(f'Decision Tree Recall: {recall_dt:.4f}')\n",
        "print(f'Decision Tree F1 Score: {f1_dt:.4f}')\n",
        "print(f'Decision Tree AUC: {roc_auc_dt:.4f}')\n",
        "\n",
        "# Plot ROC curve for Decision Tree\n",
        "plot_roc_curve(fpr_dt, tpr_dt, roc_auc_dt, 'Decision Tree ROC Curve')\n",
        "\n",
        "# Confusion matrix for Decision Tree\n",
        "cm_dt = confusion_matrix(y_test, y_pred_dt)\n",
        "disp_dt = ConfusionMatrixDisplay(confusion_matrix=cm_dt)\n",
        "disp_dt.plot()\n",
        "plt.title('Decision Tree Confusion Matrix')\n",
        "plt.show()\n",
        "\n",
        "# Train and evaluate k-NN\n",
        "knn = KNeighborsClassifier(n_neighbors=5)\n",
        "knn.fit(X_train, y_train)\n",
        "y_pred_knn = knn.predict(X_test)\n",
        "y_score_knn = knn.predict_proba(X_test)[:, 1]\n",
        "\n",
        "# Compute metrics for k-NN\n",
        "accuracy_knn = accuracy_score(y_test, y_pred_knn)\n",
        "precision_knn = precision_score(y_test, y_pred_knn)\n",
        "recall_knn = recall_score(y_test, y_pred_knn)\n",
        "f1_knn = f1_score(y_test, y_pred_knn)\n",
        "fpr_knn, tpr_knn, _ = roc_curve(y_test, y_score_knn)\n",
        "roc_auc_knn = auc(fpr_knn, tpr_knn)\n",
        "\n",
        "print(f'k-NN Accuracy: {accuracy_knn:.4f}')\n",
        "print(f'k-NN Precision: {precision_knn:.4f}')\n",
        "print(f'k-NN Recall: {recall_knn:.4f}')\n",
        "print(f'k-NN F1 Score: {f1_knn:.4f}')\n",
        "print(f'k-NN AUC: {roc_auc_knn:.4f}')\n",
        "\n",
        "# Plot ROC curve for k-NN\n",
        "plot_roc_curve(fpr_knn, tpr_knn, roc_auc_knn, 'k-NN ROC Curve')\n",
        "\n",
        "# Confusion matrix for k-NN\n",
        "cm_knn = confusion_matrix(y_test, y_pred_knn)\n",
        "disp_knn = ConfusionMatrixDisplay(confusion_matrix=cm_knn)\n",
        "disp_knn.plot()\n",
        "plt.title('k-NN Confusion Matrix')\n",
        "plt.show()\n"
      ],
      "metadata": {
        "id": "5DfaOOAktAEv"
      },
      "execution_count": null,
      "outputs": []
    },
    {
      "cell_type": "code",
      "source": [
        "\n",
        "# Don't forget to close the pool when you're done\n",
        "pool.close()\n",
        "pool.join()"
      ],
      "metadata": {
        "id": "StuD6zUq18u7"
      },
      "execution_count": null,
      "outputs": []
    }
  ],
  "metadata": {
    "accelerator": "TPU",
    "colab": {
      "gpuType": "V28",
      "provenance": []
    },
    "kernelspec": {
      "display_name": "Python 3",
      "name": "python3"
    },
    "language_info": {
      "name": "python"
    }
  },
  "nbformat": 4,
  "nbformat_minor": 0
}